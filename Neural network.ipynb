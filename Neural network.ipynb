{
 "cells": [
  {
   "cell_type": "code",
   "execution_count": 1,
   "metadata": {},
   "outputs": [
    {
     "name": "stderr",
     "output_type": "stream",
     "text": [
      "Using TensorFlow backend.\n",
      "/Library/Frameworks/Python.framework/Versions/3.6/lib/python3.6/importlib/_bootstrap.py:219: RuntimeWarning: compiletime version 3.5 of module 'tensorflow.python.framework.fast_tensor_util' does not match runtime version 3.6\n",
      "  return f(*args, **kwds)\n"
     ]
    }
   ],
   "source": [
    "import keras\n",
    "from keras.datasets import mnist\n",
    "from keras.layers import Dense\n",
    "from keras.models import Sequential\n",
    "import matplotlib.pyplot as plt\n",
    "import pandas as pd"
   ]
  },
  {
   "cell_type": "markdown",
   "metadata": {},
   "source": [
    "# Load MNIST training, validation, and testing data (features and targets).\n",
    "# Load USPS features and targets."
   ]
  },
  {
   "cell_type": "code",
   "execution_count": 2,
   "metadata": {},
   "outputs": [],
   "source": [
    "MNISTFeature = pd.read_csv(\"MNIST_TRAINING_FEATURES.csv\",  sep=\",\", dtype=float);\n",
    "MNISTarget = pd.read_csv(\"MNIST_TRAINING_TARGET.csv\",  sep=\",\", dtype=int);"
   ]
  },
  {
   "cell_type": "code",
   "execution_count": 3,
   "metadata": {},
   "outputs": [],
   "source": [
    "MNISTVALIDFeature = pd.read_csv(\"MNIST_VALIDATION_FEATURES.csv\",  sep=\",\", dtype=float);\n",
    "MNISTVALIDarget = pd.read_csv(\"MNIST_VALIDATION_TARGET.csv\",  sep=\",\", dtype=int);"
   ]
  },
  {
   "cell_type": "code",
   "execution_count": 4,
   "metadata": {},
   "outputs": [],
   "source": [
    "MNISTestFeature = pd.read_csv(\"MNIST_TESTING_FEATURES.csv\",  sep=\",\", dtype=float);\n",
    "MNISTestTarget = pd.read_csv(\"MNIST_TESTING_TARGET.csv\",  sep=\",\", dtype=int);"
   ]
  },
  {
   "cell_type": "code",
   "execution_count": 5,
   "metadata": {},
   "outputs": [],
   "source": [
    "USPSFeature = pd.read_csv(\"USPS_FEATURES.csv\",  sep=\",\", dtype=float);\n",
    "USPSTarget = pd.read_csv(\"USPS_TARGET.csv\",  sep=\",\", dtype=int);"
   ]
  },
  {
   "cell_type": "markdown",
   "metadata": {},
   "source": [
    "# Neural network"
   ]
  },
  {
   "cell_type": "markdown",
   "metadata": {},
   "source": [
    "# Processing data"
   ]
  },
  {
   "cell_type": "code",
   "execution_count": 6,
   "metadata": {},
   "outputs": [],
   "source": [
    "(x_train, y_train), (x_test, y_test) = (MNISTFeature.values, MNISTarget.values), (USPSFeature.values, USPSTarget.values) \n",
    "num_classes=10 \n",
    "image_vector_size=28*28 \n",
    "x_train_nn = x_train.reshape(x_train.shape[0], image_vector_size) \n",
    "x_test_nn = x_test.reshape(x_test.shape[0], image_vector_size)  \n",
    "y_train_cat = keras.utils.to_categorical(y_train, num_classes)        \n",
    "y_test_cat = keras.utils.to_categorical(y_test, num_classes) \n",
    "image_size = 784 "
   ]
  },
  {
   "cell_type": "markdown",
   "metadata": {},
   "source": [
    "# Train the model"
   ]
  },
  {
   "cell_type": "code",
   "execution_count": 7,
   "metadata": {},
   "outputs": [],
   "source": [
    "model = Sequential() \n",
    "model.add(Dense(units=320, activation='relu', input_shape=(image_size,)))\n",
    "model.add(Dense(units=num_classes, activation='softmax')) \n",
    "model.compile(optimizer='sgd', loss='categorical_crossentropy',metrics=['accuracy'])\n",
    "history = model.fit(x_train_nn, y_train_cat, batch_size=32, epochs=40, verbose=False,validation_split=0.1)\n",
    "loss,accuracy = model.evaluate(x_test_nn, y_test_cat, verbose=False)"
   ]
  },
  {
   "cell_type": "code",
   "execution_count": 8,
   "metadata": {},
   "outputs": [
    {
     "data": {
      "text/plain": [
       "0.9614"
      ]
     },
     "execution_count": 8,
     "metadata": {},
     "output_type": "execute_result"
    }
   ],
   "source": [
    "history.history['val_acc'][-1]"
   ]
  },
  {
   "cell_type": "code",
   "execution_count": null,
   "metadata": {},
   "outputs": [],
   "source": []
  }
 ],
 "metadata": {
  "kernelspec": {
   "display_name": "Python 3",
   "language": "python",
   "name": "python3"
  },
  "language_info": {
   "codemirror_mode": {
    "name": "ipython",
    "version": 3
   },
   "file_extension": ".py",
   "mimetype": "text/x-python",
   "name": "python",
   "nbconvert_exporter": "python",
   "pygments_lexer": "ipython3",
   "version": "3.6.5"
  }
 },
 "nbformat": 4,
 "nbformat_minor": 2
}
