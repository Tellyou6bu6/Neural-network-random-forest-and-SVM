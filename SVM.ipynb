{
 "cells": [
  {
   "cell_type": "code",
   "execution_count": 1,
   "metadata": {},
   "outputs": [],
   "source": [
    "import numpy as np\n",
    "from sklearn.svm import SVC\n",
    "from sklearn.ensemble import RandomForestClassifier\n",
    "from sklearn.datasets import fetch_mldata \n",
    "import pandas as pd"
   ]
  },
  {
   "cell_type": "markdown",
   "metadata": {},
   "source": [
    "# Load MNIST training, validation, and testing data (features and targets).\n",
    "# Load USPS features and targets."
   ]
  },
  {
   "cell_type": "code",
   "execution_count": 2,
   "metadata": {},
   "outputs": [],
   "source": [
    "MNISTFeature = pd.read_csv(\"MNIST_TRAINING_FEATURES.csv\",  sep=\",\", dtype=float);\n",
    "MNISTarget = pd.read_csv(\"MNIST_TRAINING_TARGET.csv\",  sep=\",\", dtype=int);"
   ]
  },
  {
   "cell_type": "code",
   "execution_count": 3,
   "metadata": {},
   "outputs": [],
   "source": [
    "MNISTestFeature = pd.read_csv(\"MNIST_TESTING_FEATURES.csv\",  sep=\",\", dtype=float);\n",
    "MNISTestTarget = pd.read_csv(\"MNIST_TESTING_TARGET.csv\",  sep=\",\", dtype=int);"
   ]
  },
  {
   "cell_type": "code",
   "execution_count": 4,
   "metadata": {},
   "outputs": [],
   "source": [
    "MNISTVALIDFeature = pd.read_csv(\"MNIST_VALIDATION_FEATURES.csv\",  sep=\",\", dtype=float);\n",
    "MNISTVALIDarget = pd.read_csv(\"MNIST_VALIDATION_TARGET.csv\",  sep=\",\", dtype=int);"
   ]
  },
  {
   "cell_type": "code",
   "execution_count": 5,
   "metadata": {},
   "outputs": [],
   "source": [
    "USPSFeature = pd.read_csv(\"USPS_FEATURES.csv\",  sep=\",\", dtype=float);\n",
    "USPSTarget = pd.read_csv(\"USPS_TARGET.csv\",  sep=\",\", dtype=int);"
   ]
  },
  {
   "cell_type": "markdown",
   "metadata": {},
   "source": [
    "# Processing data"
   ]
  },
  {
   "cell_type": "code",
   "execution_count": 6,
   "metadata": {},
   "outputs": [],
   "source": [
    "(x_train, y_train), (x_test, y_test) = (MNISTFeature.values, MNISTarget.values), (USPSFeature.values, USPSTarget.values)\n",
    "t_train_list = y_train.T.tolist()[0]\n",
    "\n",
    "x_testing_set, y_testing_set = MNISTestFeature.values, MNISTestTarget.values\n",
    "y_testing_set = y_testing_set.T.tolist()[0]"
   ]
  },
  {
   "cell_type": "markdown",
   "metadata": {},
   "source": [
    "# SVM"
   ]
  },
  {
   "cell_type": "code",
   "execution_count": 7,
   "metadata": {},
   "outputs": [
    {
     "name": "stderr",
     "output_type": "stream",
     "text": [
      "/Library/Frameworks/Python.framework/Versions/3.6/lib/python3.6/site-packages/sklearn/svm/base.py:244: ConvergenceWarning: Solver terminated early (max_iter=120).  Consider pre-processing your data with StandardScaler or MinMaxScaler.\n",
      "  % self.max_iter, ConvergenceWarning)\n"
     ]
    }
   ],
   "source": [
    "classifier1 = SVC(kernel='rbf', C=2, gamma=0.1, max_iter=120, tol=0.001);\n",
    "model = classifier1.fit(x_train, t_train_list)"
   ]
  },
  {
   "cell_type": "code",
   "execution_count": 8,
   "metadata": {},
   "outputs": [
    {
     "data": {
      "text/plain": [
       "0.944"
      ]
     },
     "execution_count": 8,
     "metadata": {},
     "output_type": "execute_result"
    }
   ],
   "source": [
    "model.score(x_testing_set, y_testing_set)"
   ]
  },
  {
   "cell_type": "code",
   "execution_count": null,
   "metadata": {},
   "outputs": [],
   "source": []
  },
  {
   "cell_type": "code",
   "execution_count": null,
   "metadata": {},
   "outputs": [],
   "source": []
  }
 ],
 "metadata": {
  "kernelspec": {
   "display_name": "Python 3",
   "language": "python",
   "name": "python3"
  },
  "language_info": {
   "codemirror_mode": {
    "name": "ipython",
    "version": 3
   },
   "file_extension": ".py",
   "mimetype": "text/x-python",
   "name": "python",
   "nbconvert_exporter": "python",
   "pygments_lexer": "ipython3",
   "version": "3.6.5"
  }
 },
 "nbformat": 4,
 "nbformat_minor": 2
}
